{
 "cells": [
  {
   "cell_type": "markdown",
   "id": "31dca146",
   "metadata": {},
   "source": [
    "# APIを使う\n",
    "\n",
    "緯度経度情報から、都道府県名を取得するチュートリアルです。  \n",
    "今回は、[HeartRails Geo API](https://geoapi.heartrails.com/)を使ってみます。"
   ]
  },
  {
   "cell_type": "markdown",
   "id": "55beaa89",
   "metadata": {},
   "source": [
    "`tqdm`は、処理状況を確認できるプログレスバーを表示するモジュールです。必要に応じてインストールしてください。\n",
    "\n",
    "`ipywidgets`は、プログレスバーをJupyter Notebook内で表示するために必要です。"
   ]
  },
  {
   "cell_type": "markdown",
   "id": "002e1e33",
   "metadata": {},
   "source": [
    "必要に応じて、`pip`を`pip3`と読み替えてください。"
   ]
  },
  {
   "cell_type": "code",
   "execution_count": 1,
   "id": "9fbdbc72",
   "metadata": {},
   "outputs": [
    {
     "name": "stdout",
     "output_type": "stream",
     "text": [
      "\u001b[33mWARNING: Ignoring invalid distribution -ip (/Users/MitaShunosuke/Library/CloudStorage/OneDrive-TheUniversityofTokyo/ダウンロード/修士課程/M1A/情報可視化の理論と実践/infovis/lib/python3.8/site-packages)\u001b[0m\u001b[33m\n",
      "\u001b[0mRequirement already satisfied: tqdm in /Users/MitaShunosuke/Library/CloudStorage/OneDrive-TheUniversityofTokyo/ダウンロード/修士課程/M1A/情報可視化の理論と実践/infovis/lib/python3.8/site-packages (4.67.0)\n",
      "\u001b[33mWARNING: Ignoring invalid distribution -ip (/Users/MitaShunosuke/Library/CloudStorage/OneDrive-TheUniversityofTokyo/ダウンロード/修士課程/M1A/情報可視化の理論と実践/infovis/lib/python3.8/site-packages)\u001b[0m\u001b[33m\n",
      "\u001b[0m\u001b[33mWARNING: Ignoring invalid distribution -ip (/Users/MitaShunosuke/Library/CloudStorage/OneDrive-TheUniversityofTokyo/ダウンロード/修士課程/M1A/情報可視化の理論と実践/infovis/lib/python3.8/site-packages)\u001b[0m\u001b[33m\n",
      "\u001b[0m\u001b[33mWARNING: Ignoring invalid distribution -ip (/Users/MitaShunosuke/Library/CloudStorage/OneDrive-TheUniversityofTokyo/ダウンロード/修士課程/M1A/情報可視化の理論と実践/infovis/lib/python3.8/site-packages)\u001b[0m\u001b[33m\n",
      "\u001b[0mRequirement already satisfied: ipywidgets in /Users/MitaShunosuke/Library/CloudStorage/OneDrive-TheUniversityofTokyo/ダウンロード/修士課程/M1A/情報可視化の理論と実践/infovis/lib/python3.8/site-packages (8.1.5)\n",
      "Requirement already satisfied: comm>=0.1.3 in /Users/MitaShunosuke/Library/CloudStorage/OneDrive-TheUniversityofTokyo/ダウンロード/修士課程/M1A/情報可視化の理論と実践/infovis/lib/python3.8/site-packages (from ipywidgets) (0.2.2)\n",
      "Requirement already satisfied: ipython>=6.1.0 in /Users/MitaShunosuke/Library/CloudStorage/OneDrive-TheUniversityofTokyo/ダウンロード/修士課程/M1A/情報可視化の理論と実践/infovis/lib/python3.8/site-packages (from ipywidgets) (8.12.3)\n",
      "Requirement already satisfied: traitlets>=4.3.1 in /Users/MitaShunosuke/Library/CloudStorage/OneDrive-TheUniversityofTokyo/ダウンロード/修士課程/M1A/情報可視化の理論と実践/infovis/lib/python3.8/site-packages (from ipywidgets) (5.14.3)\n",
      "Requirement already satisfied: widgetsnbextension~=4.0.12 in /Users/MitaShunosuke/Library/CloudStorage/OneDrive-TheUniversityofTokyo/ダウンロード/修士課程/M1A/情報可視化の理論と実践/infovis/lib/python3.8/site-packages (from ipywidgets) (4.0.13)\n",
      "Requirement already satisfied: jupyterlab-widgets~=3.0.12 in /Users/MitaShunosuke/Library/CloudStorage/OneDrive-TheUniversityofTokyo/ダウンロード/修士課程/M1A/情報可視化の理論と実践/infovis/lib/python3.8/site-packages (from ipywidgets) (3.0.13)\n",
      "Requirement already satisfied: backcall in /Users/MitaShunosuke/Library/CloudStorage/OneDrive-TheUniversityofTokyo/ダウンロード/修士課程/M1A/情報可視化の理論と実践/infovis/lib/python3.8/site-packages (from ipython>=6.1.0->ipywidgets) (0.2.0)\n",
      "Requirement already satisfied: decorator in /Users/MitaShunosuke/Library/CloudStorage/OneDrive-TheUniversityofTokyo/ダウンロード/修士課程/M1A/情報可視化の理論と実践/infovis/lib/python3.8/site-packages (from ipython>=6.1.0->ipywidgets) (5.1.1)\n",
      "Requirement already satisfied: jedi>=0.16 in /Users/MitaShunosuke/Library/CloudStorage/OneDrive-TheUniversityofTokyo/ダウンロード/修士課程/M1A/情報可視化の理論と実践/infovis/lib/python3.8/site-packages (from ipython>=6.1.0->ipywidgets) (0.19.1)\n",
      "Requirement already satisfied: matplotlib-inline in /Users/MitaShunosuke/Library/CloudStorage/OneDrive-TheUniversityofTokyo/ダウンロード/修士課程/M1A/情報可視化の理論と実践/infovis/lib/python3.8/site-packages (from ipython>=6.1.0->ipywidgets) (0.1.7)\n",
      "Requirement already satisfied: pickleshare in /Users/MitaShunosuke/Library/CloudStorage/OneDrive-TheUniversityofTokyo/ダウンロード/修士課程/M1A/情報可視化の理論と実践/infovis/lib/python3.8/site-packages (from ipython>=6.1.0->ipywidgets) (0.7.5)\n",
      "Requirement already satisfied: prompt-toolkit!=3.0.37,<3.1.0,>=3.0.30 in /Users/MitaShunosuke/Library/CloudStorage/OneDrive-TheUniversityofTokyo/ダウンロード/修士課程/M1A/情報可視化の理論と実践/infovis/lib/python3.8/site-packages (from ipython>=6.1.0->ipywidgets) (3.0.48)\n",
      "Requirement already satisfied: pygments>=2.4.0 in /Users/MitaShunosuke/Library/CloudStorage/OneDrive-TheUniversityofTokyo/ダウンロード/修士課程/M1A/情報可視化の理論と実践/infovis/lib/python3.8/site-packages (from ipython>=6.1.0->ipywidgets) (2.18.0)\n",
      "Requirement already satisfied: stack-data in /Users/MitaShunosuke/Library/CloudStorage/OneDrive-TheUniversityofTokyo/ダウンロード/修士課程/M1A/情報可視化の理論と実践/infovis/lib/python3.8/site-packages (from ipython>=6.1.0->ipywidgets) (0.6.3)\n",
      "Requirement already satisfied: typing-extensions in /Users/MitaShunosuke/Library/CloudStorage/OneDrive-TheUniversityofTokyo/ダウンロード/修士課程/M1A/情報可視化の理論と実践/infovis/lib/python3.8/site-packages (from ipython>=6.1.0->ipywidgets) (4.12.2)\n",
      "Requirement already satisfied: pexpect>4.3 in /Users/MitaShunosuke/Library/CloudStorage/OneDrive-TheUniversityofTokyo/ダウンロード/修士課程/M1A/情報可視化の理論と実践/infovis/lib/python3.8/site-packages (from ipython>=6.1.0->ipywidgets) (4.9.0)\n",
      "Requirement already satisfied: appnope in /Users/MitaShunosuke/Library/CloudStorage/OneDrive-TheUniversityofTokyo/ダウンロード/修士課程/M1A/情報可視化の理論と実践/infovis/lib/python3.8/site-packages (from ipython>=6.1.0->ipywidgets) (0.1.4)\n",
      "Requirement already satisfied: parso<0.9.0,>=0.8.3 in /Users/MitaShunosuke/Library/CloudStorage/OneDrive-TheUniversityofTokyo/ダウンロード/修士課程/M1A/情報可視化の理論と実践/infovis/lib/python3.8/site-packages (from jedi>=0.16->ipython>=6.1.0->ipywidgets) (0.8.4)\n",
      "Requirement already satisfied: ptyprocess>=0.5 in /Users/MitaShunosuke/Library/CloudStorage/OneDrive-TheUniversityofTokyo/ダウンロード/修士課程/M1A/情報可視化の理論と実践/infovis/lib/python3.8/site-packages (from pexpect>4.3->ipython>=6.1.0->ipywidgets) (0.7.0)\n",
      "Requirement already satisfied: wcwidth in /Users/MitaShunosuke/Library/CloudStorage/OneDrive-TheUniversityofTokyo/ダウンロード/修士課程/M1A/情報可視化の理論と実践/infovis/lib/python3.8/site-packages (from prompt-toolkit!=3.0.37,<3.1.0,>=3.0.30->ipython>=6.1.0->ipywidgets) (0.2.13)\n",
      "Requirement already satisfied: executing>=1.2.0 in /Users/MitaShunosuke/Library/CloudStorage/OneDrive-TheUniversityofTokyo/ダウンロード/修士課程/M1A/情報可視化の理論と実践/infovis/lib/python3.8/site-packages (from stack-data->ipython>=6.1.0->ipywidgets) (2.1.0)\n",
      "Requirement already satisfied: asttokens>=2.1.0 in /Users/MitaShunosuke/Library/CloudStorage/OneDrive-TheUniversityofTokyo/ダウンロード/修士課程/M1A/情報可視化の理論と実践/infovis/lib/python3.8/site-packages (from stack-data->ipython>=6.1.0->ipywidgets) (2.4.1)\n",
      "Requirement already satisfied: pure-eval in /Users/MitaShunosuke/Library/CloudStorage/OneDrive-TheUniversityofTokyo/ダウンロード/修士課程/M1A/情報可視化の理論と実践/infovis/lib/python3.8/site-packages (from stack-data->ipython>=6.1.0->ipywidgets) (0.2.3)\n",
      "Requirement already satisfied: six>=1.12.0 in /Users/MitaShunosuke/Library/CloudStorage/OneDrive-TheUniversityofTokyo/ダウンロード/修士課程/M1A/情報可視化の理論と実践/infovis/lib/python3.8/site-packages (from asttokens>=2.1.0->stack-data->ipython>=6.1.0->ipywidgets) (1.16.0)\n",
      "\u001b[33mWARNING: Ignoring invalid distribution -ip (/Users/MitaShunosuke/Library/CloudStorage/OneDrive-TheUniversityofTokyo/ダウンロード/修士課程/M1A/情報可視化の理論と実践/infovis/lib/python3.8/site-packages)\u001b[0m\u001b[33m\n",
      "\u001b[0m\u001b[33mWARNING: Ignoring invalid distribution -ip (/Users/MitaShunosuke/Library/CloudStorage/OneDrive-TheUniversityofTokyo/ダウンロード/修士課程/M1A/情報可視化の理論と実践/infovis/lib/python3.8/site-packages)\u001b[0m\u001b[33m\n",
      "\u001b[0m"
     ]
    }
   ],
   "source": [
    "!pip install tqdm\n",
    "!pip install ipywidgets"
   ]
  },
  {
   "cell_type": "code",
   "execution_count": 2,
   "id": "daaafddf",
   "metadata": {},
   "outputs": [],
   "source": [
    "import time\n",
    "import requests\n",
    "from tqdm.notebook import tqdm"
   ]
  },
  {
   "cell_type": "markdown",
   "id": "ea07abc1",
   "metadata": {},
   "source": [
    "## ファイルを読み込み、最初の1行を試す"
   ]
  },
  {
   "cell_type": "code",
   "execution_count": 3,
   "id": "4d0079d2",
   "metadata": {},
   "outputs": [],
   "source": [
    "loc_data = \"./data/loc_data.txt\""
   ]
  },
  {
   "cell_type": "code",
   "execution_count": 4,
   "id": "e95850e5",
   "metadata": {},
   "outputs": [],
   "source": [
    "with open(loc_data, \"r\") as f:\n",
    "    line = f.readline()\n",
    "    x, y = line.split()"
   ]
  },
  {
   "cell_type": "code",
   "execution_count": 5,
   "id": "16e9b769",
   "metadata": {},
   "outputs": [
    {
     "name": "stdout",
     "output_type": "stream",
     "text": [
      "142.35792 43.76344\n"
     ]
    }
   ],
   "source": [
    "# 緯度経度情報を確認\n",
    "\n",
    "print(x, y)"
   ]
  },
  {
   "cell_type": "code",
   "execution_count": null,
   "id": "4b647dad",
   "metadata": {},
   "outputs": [],
   "source": [
    "API_URL = lambda x, y: f\"https://geoapi.heartrails.com/api/json?method=searchByGeoLocation&x={x}&y={y}\""
   ]
  },
  {
   "cell_type": "code",
   "execution_count": null,
   "id": "8b659167",
   "metadata": {},
   "outputs": [],
   "source": [
    "response = requests.get(API_URL(x, y))"
   ]
  },
  {
   "cell_type": "code",
   "execution_count": null,
   "id": "df587e05",
   "metadata": {},
   "outputs": [],
   "source": [
    "response.json()"
   ]
  },
  {
   "cell_type": "code",
   "execution_count": null,
   "id": "54cf4b8f",
   "metadata": {},
   "outputs": [],
   "source": [
    "prefecture = response.json()[\"response\"][\"location\"][0][\"prefecture\"]\n",
    "prefecture"
   ]
  },
  {
   "cell_type": "markdown",
   "id": "d61c8c28",
   "metadata": {},
   "source": [
    "## まとめて処理する"
   ]
  },
  {
   "cell_type": "code",
   "execution_count": null,
   "id": "50c3c4f9",
   "metadata": {},
   "outputs": [],
   "source": [
    "# 保存先ファイルを作る\n",
    "with open(\"./data/pref_data.txt\", \"w\") as fw:\n",
    "    fw.write(\"\")\n",
    "\n",
    "with open(loc_data, \"r\") as f:\n",
    "    lines = f.readlines()\n",
    "\n",
    "for line in tqdm(lines): # tqdmを使うと、プログレスバーが表示されて進捗がわかりやすい\n",
    "    time.sleep(1) # 1秒休む\n",
    "    x, y = line.split()\n",
    "    response = requests.get(API_URL(x, y))\n",
    "    try:\n",
    "        prefecture = response.json()[\"response\"][\"location\"][0][\"prefecture\"]\n",
    "    except KeyError as e:\n",
    "        print(x, y, e)\n",
    "    with open(\"./data/pref_data.txt\", \"a\") as fw:\n",
    "        fw.write(f\"{prefecture}\\n\") # 県名を一行ずつファイルに出力する"
   ]
  },
  {
   "cell_type": "markdown",
   "id": "c82ddc84",
   "metadata": {},
   "source": [
    "これで、`pref_data.txt`というファイルに、APIから取得した都道府県名を保存できました。"
   ]
  }
 ],
 "metadata": {
  "kernelspec": {
   "display_name": "infovis",
   "language": "python",
   "name": "python3"
  },
  "language_info": {
   "codemirror_mode": {
    "name": "ipython",
    "version": 3
   },
   "file_extension": ".py",
   "mimetype": "text/x-python",
   "name": "python",
   "nbconvert_exporter": "python",
   "pygments_lexer": "ipython3",
   "version": "3.8.3"
  }
 },
 "nbformat": 4,
 "nbformat_minor": 5
}
